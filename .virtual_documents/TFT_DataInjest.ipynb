#pip install pickleshare
#pip install tqdm





import os
import json
import pandas as pd
import numpy as np
import requests

import matplotlib.pyplot as plt

from tqdm.notebook import tqdm
from scipy.interpolate import make_interp_spline


# --- Config ---
json_folder = "data"  # Folder where your JSON files are stored
output_csv = "flattened_matches.csv"
traits_csv = "csv/traits_csv.csv"
unit_csv = "csv/units_csv.csv"
current_set_prefix = "TFT14_"
# --- Helper Function ---

def get_champion_mapping():
    url = "https://ddragon.leagueoflegends.com/cdn/15.9.1/data/en_US/tft-champion.json"
    response = requests.get(url)
    data = response.json()
    champions_dict = data['data']  # Dictionary of champions keyed by their names
    champion_list = list(champions_dict.values())
    df = pd.DataFrame(champion_list)
    df = df[df['id'].str.contains(current_set_prefix)]
    df['id'] = "unit_" + df['id']
    df.drop("image", axis=1, inplace=True)
    return df

def get_trait_mapping():
    url = "https://ddragon.leagueoflegends.com/cdn/15.9.1/data/en_US/tft-trait.json"
    response = requests.get(url)
    data = response.json()
    trait_dict = data['data']  # Dictionary of champions keyed by their names
    trait_list = list(trait_dict.values())
    df = pd.DataFrame(trait_list)
    df = df[df['id'].str.contains(current_set_prefix)]
    #df['id'] = "trait_" + df['id']
    df.drop("image", axis=1, inplace=True)
    return df
    
def load_and_flatten_json(filepath):
    with open(filepath, 'r', encoding='utf-8') as file:
        data = json.load(file)
        
    # Example: Flattening `info.participants` from match data
    if 'info' in data and 'participants' in data['info']:   
        
        df = pd.json_normalize(data['info']['participants'])
        
        for i in data['info']:
            if i != 'participants':
                df[i] = data['info'][i]

        return df
    else:
        print(f"Skipping {filepath}: unexpected format.")
        return pd.DataFrame()

def flatten_traits(traits):
    # Create {trait_name: tier} for each active trait (tier > 0)
    return {
        trait['name']: trait['tier_current']
        for trait in traits if trait.get('tier_current', 0) > 0
    }

def flatten_units(units):
    # return {
    #     unit['character_id']: unit['tier']
    #     for unit in units
    # }
    flat = {}
    for unit in units:
        name = unit['character_id'] #.replace('TFT9_', '')  # Clean prefix if desired
        flat[f'{name}'] = unit['tier']
        items = unit.get('items', [])
        
        # Ensure there are always 3 items
        items = items[:3] + [""] * (3 - len(items))  # Pad with None
        
        for i, item in enumerate(items):
            flat[f'{name}_item{i+1}'] = item
    return flat

def get_trait_info(traits):
    #print ( type ( traits) )
    # Create {trait_name: tier} for each active trait (tier > 0)
    return {
         f"{trait['name']}_{trait['tier_current']}": 
            {
                "tier_total": trait["tier_total"],
                "tier_current": trait["tier_current"]
            }
        for trait in traits if trait.get('tier_current', 0) > 0
    }






# --- Main Process ---
all_dfs = []
trait_set = pd.DataFrame()

global_trait_df = pd.DataFrame()

json_count = len(os.listdir(json_folder))
print ( f"{json_count} files in the folder" )

for filename in tqdm(os.listdir(json_folder), desc="Processing JSONs"):
    if filename.endswith(".json"):
        filepath = os.path.join(json_folder, filename)
        df = load_and_flatten_json(filepath)

        trait_dict = df['traits'].to_dict() 
        t_debug = trait_dict

        for data in trait_dict.values():
            if data:
                for t_dict in data:
                    player_traits_df = pd.DataFrame.from_dict(t_dict, orient='index').T.reset_index()
                    player_traits_df = player_traits_df[player_traits_df['tier_current'].astype(int) > 0]
                    player_traits_df.drop( ['index', 'num_units', 'style'], axis = 'columns' , inplace=True)                                                           
                    trait_set = pd.concat ( [ trait_set , player_traits_df], ignore_index= True )        
        
        # Defensive flattening for traits
        flattened_traits = df['traits'].apply(flatten_traits)
        all_trait_keys = set().union(*flattened_traits)
        traits_flat = flattened_traits.apply(
            lambda d: {k: d.get(k, 0) for k in all_trait_keys}
        ).apply(pd.Series).astype(int)
        traits_flat.columns = [f"trait_{c}" for c in traits_flat.columns]

        # Defensive flattening for units
        flattened_units = df['units'].apply(flatten_units)
        all_unit_keys = set().union(*flattened_units)
        units_flat = flattened_units.apply(
            lambda d: {k: d.get(k, 0) for k in all_unit_keys}
        ).apply(pd.Series)
        
        # Convert only unit tiers to int
        tier_cols = [col for col in units_flat.columns if not '_item' in col]
        units_flat[tier_cols] = units_flat[tier_cols].astype(int)
        
        units_flat.columns = [f"unit_{c}" for c in units_flat.columns]

        # Combine everything
        df = pd.concat([
            df.drop(columns=['traits', 'units']),
            traits_flat,
            units_flat
        ], axis=1)

        df.sort_values(by='placement', inplace=True)        

        if not df.empty:
            all_dfs.append(df)

        #break #TODO REMOVE ME

trait_names = get_trait_mapping()

trait_set.drop_duplicates(subset=['name','tier_current'], inplace=True)
trait_set.reset_index(drop=True, inplace=True)
merged_df = pd.merge(names, trait_set, left_on='id', right_on='name', how='inner')
merged_df.drop ( ['id','name_y'],axis='columns',inplace=True)
merged_df.rename(columns={'name_x': 'name'},inplace=True)
merged_df.sort_values ( by = ['name', 'tier_current'], inplace=True)
merged_df.to_csv(traits_csv, index=False)
# Combine all dataframes
if all_dfs:
    final_df = pd.concat(all_dfs, ignore_index=True)
    
    # Prioritize certain columns
    prioritized_columns = ['riotIdGameName', 'riotIdTagline' ,
                           'placement', 'win','level', 'total_damage_to_players', 
                           'players_eliminated']
    
    remaining_columns = [col for col in final_df.columns if col not in prioritized_columns]
    remaining_columns_sorted = sorted(remaining_columns)
    final_column_order = prioritized_columns + remaining_columns_sorted
    final_df = final_df[final_column_order]
    final_df.to_csv(output_csv, index=False)
    print(f"✅ Flattened {len(all_dfs)} files into '{output_csv}' with {len(final_df)} rows.")
else:
    print("❌ No valid data found to flatten.")


pd.set_option('display.max_rows', None)  # To display all rows
pd.set_option('display.max_columns', None)  # To display all columns
pd.set_option('display.width', None)  # To prevent line wrapping
pd.set_option('display.max_colwidth', None)  # To prevent column truncation
#print ( list(final_df.keys()))









tierCount = final_df['rank_at_match_time.tier'].value_counts()
tier_order = [
    'IRON', 'BRONZE', 'SILVER', 'GOLD',
    'PLATINUM', 'EMERALD', 'DIAMOND', 'MASTER', 
    'GRANDMASTER', 'CHALLENGER'
]

# Count and reindex to enforce tier order
tier_counts = final_df['rank_at_match_time.tier'].value_counts()
tier_counts = tier_counts.reindex(tier_order, fill_value=0)

# Convert categorical tiers to numeric x values
x = np.arange(len(tier_order))
y = tier_counts.values

# Smooth curve with spline
spline_x = np.linspace(x.min(), x.max(), 300)  # finer resolution
spline = make_interp_spline(x, y, k=3)         # cubic spline
spline_y = spline(spline_x)

# Plot
plt.figure(figsize=(10, 6))
plt.bar(x, y, tick_label=tier_order, color='red')
plt.plot(spline_x, spline_y, color='black', linewidth=2, label='Spline Curve')

plt.title('Distribution of Ranks at Match Time')
plt.xlabel('Tier')
plt.ylabel('Count')
plt.xticks(rotation=45)
plt.grid(axis='y', linestyle='--', alpha=0.7)
plt.legend()
plt.tight_layout()
plt.show()












