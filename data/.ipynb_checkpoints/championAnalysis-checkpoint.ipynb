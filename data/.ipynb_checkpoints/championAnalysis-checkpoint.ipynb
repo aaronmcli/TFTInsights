{
 "cells": [
  {
   "cell_type": "code",
   "execution_count": null,
   "id": "c1dfc033-40af-4286-b876-338a38f597c4",
   "metadata": {},
   "outputs": [],
   "source": [
    "import pandas as pd\n",
    "import requests\n",
    "\n",
    "pd.set_option('display.max_rows', 100)"
   ]
  },
  {
   "cell_type": "code",
   "execution_count": 32,
   "id": "109b9f02-e5c0-4928-9119-895757bc8474",
   "metadata": {},
   "outputs": [
    {
     "name": "stdout",
     "output_type": "stream",
     "text": [
      "                         id         name  tier\n",
      "0           TFTTutorial_Zed          Zed     2\n",
      "1          TFTTutorial_Ahri         Ahri     2\n",
      "2         TFTTutorial_Garen        Garen     1\n",
      "3         TFTTutorial_Akali        Akali     4\n",
      "4       TFTTutorial_Warwick      Warwick     1\n",
      "5          TFTTutorial_Ashe         Ashe     3\n",
      "6    TFTTutorial_Blitzcrank   Blitzcrank     2\n",
      "7            TFTTutorial_Vi           Vi     3\n",
      "8          TFTTutorial_Lulu         Lulu     2\n",
      "9          TFTTutorial_Pyke         Pyke     2\n",
      "10       TFTTutorial_Lucian       Lucian     2\n",
      "11       TFTTutorial_Khazix       Khazix     1\n",
      "12    TFTTutorial_Lissandra    Lissandra     2\n",
      "13        TFTTutorial_Braum        Braum     2\n",
      "14      TFTTutorial_Camille      Camille     1\n",
      "15       TFTTutorial_Darius       Darius     1\n",
      "16       TFTTutorial_Veigar       Veigar     3\n",
      "17        TFTTutorial_Elise        Elise     1\n",
      "18        TFTTutorial_Fiora        Fiora     3\n",
      "19      TFTTutorial_Evelynn      Evelynn     3\n",
      "20    TFTTutorial_Gangplank    Gangplank     3\n",
      "21        TFTTutorial_Vayne        Vayne     1\n",
      "22        TFTTutorial_Varus        Varus     2\n",
      "23       TFTTutorial_Graves       Graves     1\n",
      "24        TFTTutorial_Jayce        Jayce     2\n",
      "25         TFTTutorial_Jinx         Jinx     4\n",
      "26  TFTTutorial_TwistedFate  TwistedFate     2\n",
      "27     TFTTutorial_Tristana     Tristana     1\n",
      "28     TFTTutorial_Kassadin     Kassadin     1\n",
      "29     TFTTutorial_Katarina     Katarina     3\n",
      "30        TFTTutorial_Kayle        Kayle     5\n",
      "31         TFTTutorial_Shen         Shen     2\n",
      "32      TFTTutorial_Nidalee      Nidalee     1\n",
      "33       TFTTutorial_RekSai       RekSai     2\n",
      "34        TFTTutorial_Leona        Leona     4\n",
      "35        TFTTutorial_Galio        Galio     5\n"
     ]
    }
   ],
   "source": [
    "def GetTableForChampionIDMapping():\n",
    "    url = \"https://ddragon.leagueoflegends.com/cdn/15.9.1/data/en_US/tft-champion.json\"\n",
    "    response = requests.get(url)\n",
    "    data = response.json()\n",
    "    champions_dict = data['data']  # Dictionary of champions keyed by their names\n",
    "    champion_list = list(champions_dict.values())\n",
    "    df = pd.DataFrame(champion_list)\n",
    "    df = df[~df['id'].str.contains('TFT14_')]\n",
    "    df.drop(\"image\", axis=1, inplace=True)\n",
    "    return df\n",
    "\n",
    "print ( GetTableForChampionIDMapping() )"
   ]
  },
  {
   "cell_type": "code",
   "execution_count": null,
   "id": "c852e7c3-b69a-4e14-a291-5b439336dc60",
   "metadata": {},
   "outputs": [],
   "source": []
  },
  {
   "cell_type": "code",
   "execution_count": null,
   "id": "bb6dc2fb-4a07-4155-88a4-877e25cc0823",
   "metadata": {},
   "outputs": [],
   "source": []
  }
 ],
 "metadata": {
  "kernelspec": {
   "display_name": "Python 3 (ipykernel)",
   "language": "python",
   "name": "python3"
  },
  "language_info": {
   "codemirror_mode": {
    "name": "ipython",
    "version": 3
   },
   "file_extension": ".py",
   "mimetype": "text/x-python",
   "name": "python",
   "nbconvert_exporter": "python",
   "pygments_lexer": "ipython3",
   "version": "3.10.16"
  }
 },
 "nbformat": 4,
 "nbformat_minor": 5
}
