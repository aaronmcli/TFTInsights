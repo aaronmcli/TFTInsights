{
 "cells": [
  {
   "cell_type": "code",
   "execution_count": 83,
   "id": "028440d9-4da9-41fd-b9d5-901e9f0ae857",
   "metadata": {},
   "outputs": [],
   "source": [
    "import os\n",
    "import json\n",
    "import pandas as pd\n",
    "from pandas import json_normalize\n",
    "import plotly.express as px\n",
    "import matplotlib.pyplot as plt\n",
    "import pandas as pd\n",
    "import numpy as np\n",
    "from scipy.interpolate import make_interp_spline\n",
    "from tqdm import tqdm \n",
    "from sklearn.model_selection import train_test_split\n",
    "from sklearn.linear_model import LogisticRegression\n",
    "from sklearn import metrics\n",
    "from sklearn.metrics import mean_squared_error\n",
    "from sklearn.metrics import accuracy_score, precision_score, recall_score, f1_score\n",
    "from sklearn.ensemble import RandomForestRegressor\n",
    "from sklearn.metrics import mean_squared_error, mean_absolute_error, r2_score\n",
    "from sklearn.model_selection import GridSearchCV, RandomizedSearchCV\n",
    "\n",
    "from sklearn.tree import DecisionTreeRegressor, plot_tree\n",
    "from sklearn.model_selection import cross_val_score, train_test_split, GridSearchCV\n",
    "from sklearn.linear_model import LinearRegression, Lasso, LassoCV\n",
    "from sklearn.neighbors import KNeighborsRegressor\n",
    "from sklearn.metrics import mean_squared_error, r2_score\n",
    "\n",
    "from scipy.stats import randint"
   ]
  },
  {
   "cell_type": "code",
   "execution_count": 84,
   "id": "262b7e02-cb13-474f-a091-b0232f4c1067",
   "metadata": {},
   "outputs": [],
   "source": [
    "#This document is for frequencies and probablility"
   ]
  },
  {
   "cell_type": "code",
   "execution_count": 117,
   "id": "8620b4d1-c648-4d85-a868-735950939ad7",
   "metadata": {},
   "outputs": [],
   "source": [
    "dataset = pd.read_csv('csv/flattened_matches.csv')\n",
    "df = dataset[dataset['queue_id']== 1100].copy() #ranked data only\n",
    "df = df[df['placement']<= 4].copy() #ranked data only\n",
    "summonUnits = ['unit_TFT14_AnnieTibbers', 'unit_TFT14_SummonLevel2', 'unit_TFT14_SummonLevel4', 'unit_TFT14_Summon_Turret']\n",
    "df.drop(summonUnits,axis='columns',inplace=True)"
   ]
  },
  {
   "cell_type": "code",
   "execution_count": null,
   "id": "c75b690a-99b8-4195-8461-aced34beaa98",
   "metadata": {},
   "outputs": [
    {
     "name": "stdout",
     "output_type": "stream",
     "text": [
      "(60, 61)\n"
     ]
    },
    {
     "name": "stderr",
     "output_type": "stream",
     "text": [
      "Looping over search_key:  33%|███████████████████                                      | 20/60 [00:16<00:33,  1.19it/s]"
     ]
    }
   ],
   "source": [
    "column_key = df.keys()\n",
    "column_key = [item for item in column_key if ( \"unit_\" in item and \"_item\" not in item)]\n",
    "\n",
    "unit_key = column_key.copy()\n",
    "column_key.insert (0,'id')\n",
    "\n",
    "\n",
    "precondition_probablility_unit = pd.DataFrame(columns=column_key)\n",
    "precondition_probablility_unit['id'] = unit_key\n",
    "\n",
    "print ( precondition_probablility_unit.shape )\n",
    "# Loop through each column in search_key\n",
    "for u in tqdm(search_key, desc=\"Looping over search_key\"):\n",
    "    # Loop through each row in precondition_probablility_unit\n",
    "    for index, row in precondition_probablility_unit.iterrows():\n",
    "        # Check if the value in df[row['id']] for the current row is not 0\n",
    "        non_zero_count = 0\n",
    "        hasRows = df[df[row['id']] != 0]\n",
    "        non_zero_count = ((hasRows[u] != 0) & (hasRows[row['id']] != 0)).sum() / hasRows.shape[0]\n",
    "        \n",
    "        # Update the precondition_probablility_unit DataFrame\n",
    "        precondition_probablility_unit.at[index, u] = non_zero_count"
   ]
  },
  {
   "cell_type": "code",
   "execution_count": null,
   "id": "d2ac59a9-a7eb-4581-ada2-be5989bfc9ab",
   "metadata": {},
   "outputs": [],
   "source": [
    "precondition_probablility_unit"
   ]
  },
  {
   "cell_type": "code",
   "execution_count": null,
   "id": "2be2e4b7-d801-41f9-b6a9-3283e0350d7f",
   "metadata": {},
   "outputs": [],
   "source": [
    "import plotly.express as px\n",
    "import pandas as pd\n",
    "import plotly.io as pio\n",
    "\n",
    "# Extract the ID column for row labels\n",
    "id_column = precondition_probablility_unit['id']\n",
    "\n",
    "# Drop the 'id' column from the data for the heatmap\n",
    "precondition_probablility_unit_cleaned = precondition_probablility_unit.drop(columns=['id'])\n",
    "\n",
    "# Ensure the data is numeric\n",
    "numeric_data = precondition_probablility_unit_cleaned.apply(pd.to_numeric, errors='coerce')\n",
    "\n",
    "# Create an interactive heatmap using plotly\n",
    "fig = px.imshow(numeric_data,\n",
    "                labels={'x': 'Search Key Columns', 'y': 'Given this unit', 'color': 'Probability'},\n",
    "                x=numeric_data.columns,\n",
    "                y=id_column,\n",
    "                color_continuous_scale='YlGnBu')\n",
    "\n",
    "# Update layout to remove annotations, show hover info, and adjust chart size\n",
    "fig.update_traces(texttemplate='', hoverinfo='y+x+z')  # Remove annotations, show hover info\n",
    "\n",
    "# Set the size of the chart (width and height)\n",
    "fig.update_layout(\n",
    "    title=\"Precondition Probability Heatmap\",\n",
    "    xaxis_title=\"Search Key Columns\",\n",
    "    yaxis_title=\"Given this unit\",\n",
    "    width=1500,  # Increase width\n",
    "    height=1200   # Increase height\n",
    ")\n",
    "\n",
    "# Show the plot\n",
    "#fig.show()\n",
    "pio.show(fig)"
   ]
  },
  {
   "cell_type": "code",
   "execution_count": null,
   "id": "ec0cf1c1-1ab0-424f-9c38-974b47cae155",
   "metadata": {},
   "outputs": [],
   "source": [
    "overall_probablility_unit = pd.DataFrame(columns=unit_key)\n",
    "search_key = overall_probablility_unit.keys()\n",
    "\n",
    "for u in search_key:\n",
    "    overall_probablility_unit[u] = [(df[u] != 0).sum() / df.shape[0]]\n",
    "    #print ( f\"{(df[u] != 0).sum()} / {df.shape[0]} \")"
   ]
  },
  {
   "cell_type": "code",
   "execution_count": null,
   "id": "07ac95d4-61d9-4727-9a3d-e62d9b86a743",
   "metadata": {},
   "outputs": [],
   "source": [
    "overall_probablility_unit"
   ]
  },
  {
   "cell_type": "code",
   "execution_count": null,
   "id": "8da890f8-4614-484d-8b66-78e60781ed49",
   "metadata": {},
   "outputs": [],
   "source": [
    "plot_data = overall_probablility_unit.T\n",
    "plot_data.columns = ['non_zero_ratio']\n",
    "plot_data_sorted = plot_data.sort_values(by='non_zero_ratio', ascending=True)\n",
    "\n",
    "# Plot\n",
    "plot_data_sorted.plot(kind='bar', legend=False, figsize=(10, 5))\n",
    "plt.title('Proportion of Unit appearing at Final Board')\n",
    "plt.ylabel('Proportion')\n",
    "plt.xlabel('Unit')\n",
    "plt.ylim(0, 1)\n",
    "plt.grid(axis='y')\n",
    "plt.tight_layout()\n",
    "plt.show()"
   ]
  }
 ],
 "metadata": {
  "kernelspec": {
   "display_name": "Python 3 (ipykernel)",
   "language": "python",
   "name": "python3"
  },
  "language_info": {
   "codemirror_mode": {
    "name": "ipython",
    "version": 3
   },
   "file_extension": ".py",
   "mimetype": "text/x-python",
   "name": "python",
   "nbconvert_exporter": "python",
   "pygments_lexer": "ipython3",
   "version": "3.10.17"
  }
 },
 "nbformat": 4,
 "nbformat_minor": 5
}
