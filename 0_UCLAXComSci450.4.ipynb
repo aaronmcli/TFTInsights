{
 "cells": [
  {
   "cell_type": "markdown",
   "id": "f49e287c-14d6-432f-8ebd-73a42a67d1a8",
   "metadata": {},
   "source": [
    "# Team Fight Tactics Team Composition Analysis\n",
    "#### By: Aaron Man Chun Li\n",
    "#### For: Dr. Ben Winjum; 402625: Machine Learning (Python)COM SCI-X 450.4"
   ]
  },
  {
   "cell_type": "markdown",
   "id": "9f8aaa54-0527-422b-b8b7-d29b70da6858",
   "metadata": {},
   "source": [
    "## Jupyter notebook:\n",
    "Your notebook must include an introductory narrative that provides:\n",
    "\n",
    "- a short description of your dataset\n",
    "- why you are interested in it\n",
    "- a link to where others can access the data\n",
    "- a link to documentation about the data (if different from the data access link)\n",
    "- an introductory summary of at least one published work that applied machine learning to the dataset\n",
    "\n",
    "The notebook must then present a clear narrative showing a substantive and specific machine learning workflow that includes:\n",
    "\n",
    "- Importing and organizing the data\n",
    "- Basic statistical analysis and/or visualizations of the data\n",
    "- to present a general overview of the data\n",
    "- to process data as needed, such as dealing with missing values and applying transformations\n",
    "- Clear description of which variables will be used for machine learning\n",
    "- An application of at least thee machine learning algorithms to achieve the prediction objective\n",
    "   - You must use XGBoost for one of the algorithms\n",
    "   - You must use TensorFlow for one of the algorithms\n",
    "   - Cross validation to learn the optimum values of hyperparameters\n",
    "- Measurements of how well the learned models generalize to new or test data\n",
    "- A comparison of your models' results against each other\n",
    "\n",
    "The notebook must then end with:\n",
    "\n",
    "- a discussion of the advantages and disadvantages of each algorithm\n",
    "- an explanation of why the results may be different between them\n",
    "- a comparison of your model(s) with prior work\n",
    "- I will not grade you on whether your results are comparable to or better than other work! Simply give a thoughtful and well-reasoned explanation of how they make sense together (or don't).\n",
    "- a discussion of how one must consider biases, interpretability, and ethics with respect to your dataset and any algorithms that have been applied to it\n",
    "- conclusions about what you found to work best and what key points should be drawn from your work\n",
    "\n",
    "The notebook should:\n",
    "\n",
    "- Tell the story of your analysis in approximately 1500+ words (not including tables, figures, captions, or references).\n",
    "- If applicable, it is perfectly ok for this notebook to describe how your analysis changed as you went through the machine learning process.\n",
    "\n",
    "The top of your notebook must include your name(s), the date, and your project title."
   ]
  },
  {
   "cell_type": "markdown",
   "id": "1869883a-1475-4e48-a645-55d284b1db30",
   "metadata": {},
   "source": [
    "# Introduction\n",
    "\n",
    "![asdf](https://raiseyourgame.com/wp-content/uploads/2022/08/Andy_Teamfight_Podcast_Optional_Featured_sm_792x447.jpg)\n",
    "\n",
    "https://teamfighttactics.leagueoflegends.com/en-us/\n",
    "\n",
    "Team Fight Tactics (TFT) is an auto-battler stratgery game developed by Riot Games, local to west Los Angeles, set in the League of Legends universe. Players compete in 8-player free-for-all matches, where each round consists of automatic battles between squads of units that the player builds over time (hence the name auto-battler). The goail is to be the last player standing by strategically managing your economogy, positioning, and __most critcally__ your team composition. \n",
    "\n",
    "# Core Mechanics\n",
    "- __Unit Drafting__ : Player acquire units from a shared pool using gold. Units have different origins and classes (aka traits).\n",
    "- __Trait Synergies__ :Units with matching traits grant bonuses, making synergies the foundation of strong team compositions.\n",
    "- __Economy Management__: Player earn gold each round, and must balance spending on units, leveling up, and saving for interest.\n",
    "- __Positioning__: Units are placed on a grid, and while they act automatically in combat, smart placement can greatly affect outcomes—changing who gets targeted, how long key units survive, and whether abilities land effectively.\n",
    "- __Augments & Items__: Augments add game-changing bonuses; where items crafted from components drastically empower unit performance."
   ]
  },
  {
   "cell_type": "markdown",
   "id": "39089a5b-43ea-44de-92a5-3e17e30ad7bb",
   "metadata": {},
   "source": [
    "# Data Set\n",
    "\n",
    "Riot Games offers an API that allows developers to gather informatino about the game.\n",
    "These information are avaiable here: https://developer.riotgames.com/\n",
    "A Riot Games account will be required, and you'll be given immedate access to a developement API key that you can insert to run this code if you do choose to do so.\n",
    "\n",
    "For TFT, there are a limited amount of information avaiable on the API.\n",
    "The two key piece of information of interest are player match history, and their ranking.\n",
    "\n",
    "Our dataset involves will involve a large number of matches ( greater 20k ) gathered through the API.\n",
    "\n",
    "Each match have data about the _FINAL STATE_ of the game. \n",
    "- The units each playerd field, and the respective unit's items\n",
    "- Synergy level hit per activate trait\n",
    "- Number of players eliminated\n",
    "- Damage dealt by each player\n",
    "- Final Placements, Top 4 is considered a win\n",
    "- Level\n",
    "- Gold Remaining\n",
    "- Rounds played\n",
    "\n",
    "The match DOES NOT have data about:\n",
    "- Augments\n",
    "- Timeline and snapshots of the game\n",
    "- Game modidfers\n",
    "\n",
    "The RAW gathered data can be access via github here:\n",
    "https://github.com/aaronmcli/TFTInsights\n",
    "\n",
    "and imported and processed data will be submitted with this assigment on canvas, and also in the following Google drive link:\n",
    "###[GOOGLE DRIVE LINK]\n"
   ]
  },
  {
   "cell_type": "markdown",
   "id": "da4ff9e1-830c-4f74-8b1f-d48cd47a541b",
   "metadata": {},
   "source": [
    "# Interest & Goal\n",
    "\n",
    "As a gamer, my main interest is winning a game and climbing through the ranks. As a data science student, I'm interested in how to build compositions correlates to winning, as there are things that are obviously powerful, and some not as much. \n",
    "\n",
    "Composition --> Placements \n",
    "\n",
    "And at the end, build a tool that can inform the player during their game how to best use their resouce. \n",
    "A way to learn the game via the data we have. "
   ]
  },
  {
   "cell_type": "markdown",
   "id": "6fe23d18-7edb-4c8b-8538-f433e7877014",
   "metadata": {},
   "source": [
    "# Data Analysis Process\n",
    "\n",
    "## 1 - Gathering the data\n",
    "Please see the notebook TFT_GameIngest.ipynb\n",
    "\n",
    "## 2 - Importing and organizing the data \n",
    "Please see the notebook TFT_DataImport.ipynb\n",
    "\n"
   ]
  },
  {
   "cell_type": "markdown",
   "id": "967aef1c-04d5-45a9-992e-fdc5b816d90e",
   "metadata": {},
   "source": [
    "# 3 "
   ]
  }
 ],
 "metadata": {
  "kernelspec": {
   "display_name": "Python 3 (ipykernel)",
   "language": "python",
   "name": "python3"
  },
  "language_info": {
   "codemirror_mode": {
    "name": "ipython",
    "version": 3
   },
   "file_extension": ".py",
   "mimetype": "text/x-python",
   "name": "python",
   "nbconvert_exporter": "python",
   "pygments_lexer": "ipython3",
   "version": "3.10.17"
  }
 },
 "nbformat": 4,
 "nbformat_minor": 5
}
