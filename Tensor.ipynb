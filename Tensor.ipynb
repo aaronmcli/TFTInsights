{
 "cells": [
  {
   "cell_type": "code",
   "execution_count": 4,
   "id": "a8b23570-0be3-43c6-899b-79b02bbadbeb",
   "metadata": {},
   "outputs": [],
   "source": [
    "import tensorflow as tf\n",
    "from tensorflow import keras\n",
    "from tensorflow.keras import layers\n",
    "import numpy as np\n",
    "import pandas as pd\n",
    "from sklearn.model_selection import train_test_split\n",
    "from sklearn.preprocessing import StandardScaler\n",
    "\n",
    "import tftinsights\n",
    "import tftinsights.data"
   ]
  },
  {
   "cell_type": "code",
   "execution_count": 5,
   "id": "036699c7-5398-44c4-b700-15f0bbfca92a",
   "metadata": {},
   "outputs": [],
   "source": [
    "df = tftinsights.data.get_tft_dataset(include_traits  =True, include_units =True, include_items=False,include_player_data=False)  \n",
    "y = df['placement'].astype(float) #dependent variable\n",
    "x = df.drop(columns='placement') #independent variables \n",
    "x_train, x_test, y_train, y_test = train_test_split(x, y, test_size=0.2, random_state=42)"
   ]
  },
  {
   "cell_type": "code",
   "execution_count": null,
   "id": "13982301-3063-4d2a-8c84-568d56f2ac88",
   "metadata": {},
   "outputs": [],
   "source": []
  },
  {
   "cell_type": "code",
   "execution_count": 60,
   "id": "eacaf68c-9c60-4e28-aacf-d6f034601f73",
   "metadata": {},
   "outputs": [
    {
     "name": "stdout",
     "output_type": "stream",
     "text": [
      "85\n"
     ]
    }
   ],
   "source": [
    "# Example dummy data (replace with your dataset)\n",
    "# Split\n",
    "\n",
    "# Normalize features\n",
    "scaler = StandardScaler()\n",
    "x_train = scaler.fit_transform(x_train)\n",
    "x_test = scaler.transform(x_test)\n",
    "print(x_train.shape[1])"
   ]
  },
  {
   "cell_type": "code",
   "execution_count": 63,
   "id": "880b4806-d13c-4617-a239-70ef7d226eb7",
   "metadata": {},
   "outputs": [],
   "source": [
    "model = keras.Sequential([\n",
    "    layers.Input(shape=(x_train.shape[1],)),\n",
    "    layers.Dense(64, activation=tf.nn.leaky_relu),\n",
    "    layers.Dense(32, activation='softmax'),\n",
    "    layers.Dense(1)  # Output layer for regression (no activation)\n",
    "])"
   ]
  },
  {
   "cell_type": "code",
   "execution_count": 64,
   "id": "54022d2d-632b-43f4-80cf-0a9d02da1039",
   "metadata": {},
   "outputs": [],
   "source": [
    "model.compile(\n",
    "    optimizer='adam',\n",
    "    loss='mean_absolute_error',  # 'mean_squared_error' or 'mean_absolute_error'\n",
    "    metrics=['mae']  # Mean Absolute Error\n",
    ")"
   ]
  },
  {
   "cell_type": "code",
   "execution_count": 65,
   "id": "465f248a-7397-4709-b2f6-5c396d4ee502",
   "metadata": {},
   "outputs": [],
   "source": [
    "history = model.fit(x_train, y_train, epochs=50, batch_size=32, validation_split=0.2, verbose=0)"
   ]
  },
  {
   "cell_type": "code",
   "execution_count": 66,
   "id": "38da4e0c-268c-411a-99a3-1eeaa04ab77e",
   "metadata": {},
   "outputs": [
    {
     "name": "stdout",
     "output_type": "stream",
     "text": [
      "\u001b[1m877/877\u001b[0m \u001b[32m━━━━━━━━━━━━━━━━━━━━\u001b[0m\u001b[37m\u001b[0m \u001b[1m1s\u001b[0m 680us/step - loss: 1.1553 - mae: 1.1553\n",
      "Test MAE: 1.1513514518737793\n"
     ]
    }
   ],
   "source": [
    "loss, mae = model.evaluate(x_test, y_test)\n",
    "print(f\"Test MAE: {mae}\")"
   ]
  },
  {
   "cell_type": "code",
   "execution_count": 67,
   "id": "fb478b31-0dde-490c-b0f2-efc2a2c79971",
   "metadata": {},
   "outputs": [
    {
     "name": "stdout",
     "output_type": "stream",
     "text": [
      "\u001b[1m877/877\u001b[0m \u001b[32m━━━━━━━━━━━━━━━━━━━━\u001b[0m\u001b[37m\u001b[0m \u001b[1m0s\u001b[0m 511us/step\n",
      "R² Score: 0.561151395489429\n"
     ]
    }
   ],
   "source": [
    "from sklearn.metrics import r2_score\n",
    "\n",
    "y_pred = model.predict(x_test)\n",
    "r2 = r2_score(y_test, y_pred)\n",
    "print(\"R² Score:\", r2)"
   ]
  },
  {
   "cell_type": "code",
   "execution_count": null,
   "id": "c5da0bad-d3fe-4acd-9470-3f7f99af1caa",
   "metadata": {},
   "outputs": [],
   "source": []
  }
 ],
 "metadata": {
  "kernelspec": {
   "display_name": "Python 3 (ipykernel)",
   "language": "python",
   "name": "python3"
  },
  "language_info": {
   "codemirror_mode": {
    "name": "ipython",
    "version": 3
   },
   "file_extension": ".py",
   "mimetype": "text/x-python",
   "name": "python",
   "nbconvert_exporter": "python",
   "pygments_lexer": "ipython3",
   "version": "3.10.17"
  }
 },
 "nbformat": 4,
 "nbformat_minor": 5
}
